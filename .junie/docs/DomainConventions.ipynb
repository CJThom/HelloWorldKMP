{
 "cells": [
  {
   "metadata": {
    "ExecuteTime": {
     "end_time": "2025-07-30T07:13:45.598480Z",
     "start_time": "2025-07-30T07:13:45.339346Z"
    }
   },
   "cell_type": "code",
   "source": [
    "sealed class DataResult<out T> {\n",
    "\n",
    "    data class Success<out T>(val data: T) : DataResult<T>()\n",
    "\n",
    "    sealed class Error(\n",
    "        open val message: String,\n",
    "        open val throwable: Throwable? = null,\n",
    "    ) : DataResult<Nothing>() {\n",
    "\n",
    "        sealed class Client(\n",
    "            override val message: String,\n",
    "            override val throwable: Throwable? = null,\n",
    "        ) : Error(message, throwable) {\n",
    "\n",
    "            data class Database(\n",
    "                override val message: String = \"Database error\",\n",
    "                override val throwable: Throwable? = null,\n",
    "            ) : Client(message, throwable)\n",
    "\n",
    "            data class Mapping(\n",
    "                override val message: String = \"Mapping error\",\n",
    "                override val throwable: Throwable? = null,\n",
    "            ) : Client(message, throwable)\n",
    "\n",
    "            data class UnexpectedError(\n",
    "                override val message: String = \"Unexpected client error\",\n",
    "                override val throwable: Throwable? = null,\n",
    "            ) : Client(message, throwable)\n",
    "        }\n",
    "\n",
    "        sealed class Network(\n",
    "            override val message: String,\n",
    "            override val throwable: Throwable? = null,\n",
    "        ) : Error(message, throwable) {\n",
    "\n",
    "            data class HttpError(\n",
    "                val code: Int,\n",
    "                override val message: String = \"HTTP error: $code\",\n",
    "                override val throwable: Throwable? = null,\n",
    "            ) : Network(message, throwable)\n",
    "\n",
    "            data class ConnectionError(\n",
    "                override val message: String = \"Network connection error\",\n",
    "                override val throwable: Throwable? = null,\n",
    "            ) : Network(message, throwable)\n",
    "\n",
    "            data class SerializationError(\n",
    "                override val message: String = \"Serialization error\",\n",
    "                override val throwable: Throwable? = null,\n",
    "            ) : Network(message, throwable)\n",
    "\n",
    "            data class UnknownError(\n",
    "                override val message: String = \"Unknown network error\",\n",
    "                override val throwable: Throwable? = null,\n",
    "            ) : Network(message, throwable)\n",
    "        }\n",
    "    }\n",
    "}\n",
    "\n",
    "fun <T, R> DataResult<List<T>>.map(transform: (T) -> R): DataResult<List<R>> {\n",
    "    return when (this) {\n",
    "        is DataResult.Success -> DataResult.Success(this.data.map(transform))\n",
    "        is DataResult.Error -> this\n",
    "    }\n",
    "}\n"
   ],
   "outputs": [],
   "execution_count": 16
  },
  {
   "metadata": {
    "ExecuteTime": {
     "end_time": "2025-07-30T07:13:45.680286Z",
     "start_time": "2025-07-30T07:13:45.611743Z"
    }
   },
   "cell_type": "code",
   "source": [
    "import kotlinx.coroutines.flow.Flow\n",
    "\n",
    "data class SendChatMessage(\n",
    "    val message: String\n",
    ")\n",
    "\n",
    "data class Message (\n",
    "    val message: String\n",
    ")\n",
    "\n",
    "interface MessengerRepository {\n",
    "    fun createMessage(sendChatMessage: SendChatMessage): DataResult<String>\n",
    "    fun getMessageListFlow(chatId: String): Flow<List<Message>>\n",
    "}"
   ],
   "outputs": [],
   "execution_count": 17
  },
  {
   "metadata": {
    "ExecuteTime": {
     "end_time": "2025-07-30T07:13:45.747620Z",
     "start_time": "2025-07-30T07:13:45.685475Z"
    }
   },
   "cell_type": "code",
   "source": [
    "import kotlinx.coroutines.flow.Flow\n",
    "\n",
    "\n",
    "class CreateMessageUseCase(\n",
    "    private val messengerRepository: MessengerRepository\n",
    ") {\n",
    "\n",
    "    suspend operator fun invoke(\n",
    "        messageText: String\n",
    "    ): UseCaseResult {\n",
    "\n",
    "        val sendChatMessage = SendChatMessage(\n",
    "            message = messageText\n",
    "        )\n",
    "\n",
    "        val result = messengerRepository.createMessage(sendChatMessage = sendChatMessage)\n",
    "\n",
    "        when (result) {\n",
    "            is DataResult.Success -> {\n",
    "                return UseCaseResult.Success(sendChatMessage = sendChatMessage)\n",
    "            }\n",
    "\n",
    "            is DataResult.Error.Client -> {\n",
    "                return UseCaseResult.Error.Client\n",
    "            }\n",
    "\n",
    "            is DataResult.Error.Network -> {\n",
    "                return UseCaseResult.Error.Network\n",
    "            }\n",
    "\n",
    "        }\n",
    "    }\n",
    "\n",
    "    sealed interface UseCaseResult {\n",
    "        data class Success(val sendChatMessage: SendChatMessage) : UseCaseResult\n",
    "        sealed class Error(val message: String) : UseCaseResult {\n",
    "            data object Client : Error(\"Unknown client error\")\n",
    "            data object Network : Error(\"Unknown network error\")\n",
    "        }\n",
    "    }\n",
    "\n",
    "}\n",
    "\n"
   ],
   "outputs": [],
   "execution_count": 18
  },
  {
   "metadata": {
    "ExecuteTime": {
     "end_time": "2025-07-30T07:13:55.558997Z",
     "start_time": "2025-07-30T07:13:55.405926Z"
    }
   },
   "cell_type": "code",
   "source": [
    "import io.ktor.http.ContentType\n",
    "import kotlinx.coroutines.flow.Flow\n",
    "\n",
    "class GetChatMessageListFlowUseCase(\n",
    "    private val messengerRepository: MessengerRepository,\n",
    ") {\n",
    "\n",
    "    operator fun invoke(chatId: String): Flow<List<Message>> {\n",
    "        return messengerRepository.getMessageListFlow(chatId = chatId)\n",
    "    }\n",
    "\n",
    "}"
   ],
   "outputs": [],
   "execution_count": 20
  }
 ],
 "metadata": {
  "kernelspec": {
   "display_name": "Kotlin",
   "language": "kotlin",
   "name": "kotlin"
  },
  "language_info": {
   "name": "kotlin",
   "version": "1.9.23",
   "mimetype": "text/x-kotlin",
   "file_extension": ".kt",
   "pygments_lexer": "kotlin",
   "codemirror_mode": "text/x-kotlin",
   "nbconvert_exporter": ""
  },
  "ktnbPluginMetadata": {
   "projectDependencies": [
    "GPCTestAppKMP.composeApp.commonMain"
   ],
   "projectLibraries": false
  }
 },
 "nbformat": 4,
 "nbformat_minor": 0
}
