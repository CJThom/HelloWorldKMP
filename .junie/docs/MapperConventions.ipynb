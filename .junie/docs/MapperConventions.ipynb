{
 "cells": [
  {
   "metadata": {},
   "cell_type": "markdown",
   "source": "This example is shows for rare cases how we can handle expected null values from an API and be able to display the error on the UI"
  },
  {
   "metadata": {
    "ExecuteTime": {
     "end_time": "2025-07-29T09:19:41.044793Z",
     "start_time": "2025-07-29T09:19:40.611677Z"
    }
   },
   "cell_type": "code",
   "source": [
    "\n",
    "//{\n",
    "//    \"title\": null,\n",
    "//    \"orderNumber\": null\n",
    "//}\n",
    "\n",
    "data class ItemDto(\n",
    "    val title: String?, // Not important (Nice for UI)\n",
    "    val orderNumber: String?, // Critical\n",
    ")\n",
    "\n",
    "data class Item(\n",
    "    val title: String?,\n",
    "    val orderNumber: String?,\n",
    "    val error: String?\n",
    ")\n",
    "\n",
    "data class ItemState(\n",
    "    val title: String?,\n",
    "    val orderNumber: String?,\n",
    "    val error: String?\n",
    ")\n",
    "\n",
    "fun ItemDto.toDomain(): Item {\n",
    "   return try{\n",
    "        Item(\n",
    "            title = this.title,\n",
    "            orderNumber = requireNotNull(this.orderNumber){ \"Order Number is null\" },\n",
    "            error = null\n",
    "        )\n",
    "    } catch(exception :Exception){\n",
    "        Item(\n",
    "            title = this.title,\n",
    "            orderNumber = this.orderNumber,\n",
    "            error = exception.message\n",
    "        )\n",
    "    }\n",
    "}\n",
    "\n",
    "fun Item.toState(): ItemState {\n",
    "    return ItemState(\n",
    "        title = this.title ?: \"-\",\n",
    "        orderNumber = this.orderNumber ?: \"-\",\n",
    "        error = this.error\n",
    "    )\n",
    "}\n"
   ],
   "outputs": [],
   "execution_count": 1
  },
  {
   "metadata": {},
   "cell_type": "code",
   "outputs": [],
   "execution_count": null,
   "source": [
    "data class Item(\n",
    "    val title: String,\n",
    "    val orderNumber: String,\n",
    "    val error: String?\n",
    ")\n",
    "\n",
    "data class ItemState(\n",
    "    val title: String,\n",
    "    val orderNumber: String,\n",
    "    val longTitle: String,\n",
    "    val isError: Boolean,\n",
    "    val error: String?\n",
    ")\n",
    "\n",
    "internal fun Item.toDisplay(flavourText: String): ItemState {\n",
    "    return ItemState(\n",
    "        title = this.title,\n",
    "        longTitle = \"{this.title} $flavourText\",\n",
    "        orderNumber = this.orderNumber,\n",
    "        isError = isError(error = this.error),\n",
    "        error = this.error\n",
    "    )\n",
    "}\n",
    "\n",
    "private fun isError(error: String?): Boolean {\n",
    "    return error != null\n",
    "}\n",
    "\n",
    "internal fun List<Item>.toDisplay(flavourText: String): List<ItemState> {\n",
    "    return map { it.toDisplay(flavourText = flavourText) }\n",
    "}"
   ]
  }
 ],
 "metadata": {
  "kernelspec": {
   "display_name": "Kotlin",
   "language": "kotlin",
   "name": "kotlin"
  },
  "language_info": {
   "name": "kotlin",
   "version": "1.9.23",
   "mimetype": "text/x-kotlin",
   "file_extension": ".kt",
   "pygments_lexer": "kotlin",
   "codemirror_mode": "text/x-kotlin",
   "nbconvert_exporter": ""
  }
 },
 "nbformat": 4,
 "nbformat_minor": 0
}
